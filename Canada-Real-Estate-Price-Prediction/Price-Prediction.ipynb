{
 "cells": [
  {
   "cell_type": "code",
   "execution_count": 28,
   "id": "d7d3ee2d-6201-4d54-af39-0ecb82f6a43e",
   "metadata": {},
   "outputs": [],
   "source": [
    "# Import libraries\n",
    "# Libraries for data inspection\n",
    "import pandas as pd\n",
    "import numpy as np\n",
    "import seaborn as sns\n",
    "from spicy import stats\n",
    "from matplotlib import pyplot as plt\n",
    "from sqlalchemy import delete\n",
    "import matplotlib\n",
    "%matplotlib inline\n",
    "\n",
    "# Libraries for model training\n",
    "from sklearn.model_selection import train_test_split, ShuffleSplit, cross_val_score, GridSearchCV\n",
    "from sklearn.linear_model import LinearRegression, Lasso\n",
    "\n",
    "# Libraries for GridSearch \n",
    "from sklearn.tree import DecisionTreeRegressor"
   ]
  },
  {
   "cell_type": "code",
   "execution_count": 2,
   "id": "5de1f407-12b1-484c-a037-4c908a9f9f3d",
   "metadata": {},
   "outputs": [],
   "source": [
    "matplotlib.rcParams[\"figure.figsize\"] = (20, 10)"
   ]
  },
  {
   "cell_type": "code",
   "execution_count": 3,
   "id": "4fd0209e-e3f8-44bf-8e68-74fa5f84a1fb",
   "metadata": {},
   "outputs": [
    {
     "data": {
      "text/html": [
       "<div>\n",
       "<style scoped>\n",
       "    .dataframe tbody tr th:only-of-type {\n",
       "        vertical-align: middle;\n",
       "    }\n",
       "\n",
       "    .dataframe tbody tr th {\n",
       "        vertical-align: top;\n",
       "    }\n",
       "\n",
       "    .dataframe thead th {\n",
       "        text-align: right;\n",
       "    }\n",
       "</style>\n",
       "<table border=\"1\" class=\"dataframe\">\n",
       "  <thead>\n",
       "    <tr style=\"text-align: right;\">\n",
       "      <th></th>\n",
       "      <th>Address</th>\n",
       "      <th>Price</th>\n",
       "      <th>Description</th>\n",
       "      <th>Place</th>\n",
       "      <th>Beds</th>\n",
       "      <th>Bath</th>\n",
       "      <th>Sq.Ft</th>\n",
       "      <th>Website</th>\n",
       "    </tr>\n",
       "  </thead>\n",
       "  <tbody>\n",
       "    <tr>\n",
       "      <th>0</th>\n",
       "      <td>3704 42 St SW</td>\n",
       "      <td>979999</td>\n",
       "      <td>CA  AB T3E 3N1</td>\n",
       "      <td>Glenbrook</td>\n",
       "      <td>4</td>\n",
       "      <td>3.5</td>\n",
       "      <td>1813</td>\n",
       "      <td>Century 21 Bravo Realty</td>\n",
       "    </tr>\n",
       "    <tr>\n",
       "      <th>1</th>\n",
       "      <td>30 Mahogany Mews SE #415</td>\n",
       "      <td>439900</td>\n",
       "      <td>CA  AB T3M 3H4</td>\n",
       "      <td>Mahogany</td>\n",
       "      <td>2</td>\n",
       "      <td>2.0</td>\n",
       "      <td>1029</td>\n",
       "      <td>Century 21 Bamber Realty Ltd.</td>\n",
       "    </tr>\n",
       "    <tr>\n",
       "      <th>2</th>\n",
       "      <td>273 Auburn Shores Way SE</td>\n",
       "      <td>950000</td>\n",
       "      <td>CA  AB T3M 2E9</td>\n",
       "      <td>Auburn Bay</td>\n",
       "      <td>4</td>\n",
       "      <td>2.5</td>\n",
       "      <td>2545</td>\n",
       "      <td>Exp Realty</td>\n",
       "    </tr>\n",
       "    <tr>\n",
       "      <th>3</th>\n",
       "      <td>235 15 Ave SW #404</td>\n",
       "      <td>280000</td>\n",
       "      <td>CA  AB T2R 0P6</td>\n",
       "      <td>Beltline</td>\n",
       "      <td>2</td>\n",
       "      <td>2.0</td>\n",
       "      <td>898</td>\n",
       "      <td>RE/MAX Realty Professionals</td>\n",
       "    </tr>\n",
       "    <tr>\n",
       "      <th>4</th>\n",
       "      <td>24 Hemlock Crescent SW #2308</td>\n",
       "      <td>649000</td>\n",
       "      <td>CA  AB T3C 2Z1</td>\n",
       "      <td>Spruce Cliff</td>\n",
       "      <td>2</td>\n",
       "      <td>2.0</td>\n",
       "      <td>1482</td>\n",
       "      <td>Charles</td>\n",
       "    </tr>\n",
       "  </tbody>\n",
       "</table>\n",
       "</div>"
      ],
      "text/plain": [
       "                        Address   Price     Description         Place  Beds  \\\n",
       "0                 3704 42 St SW  979999  CA  AB T3E 3N1     Glenbrook     4   \n",
       "1      30 Mahogany Mews SE #415  439900  CA  AB T3M 3H4      Mahogany     2   \n",
       "2      273 Auburn Shores Way SE  950000  CA  AB T3M 2E9    Auburn Bay     4   \n",
       "3            235 15 Ave SW #404  280000  CA  AB T2R 0P6      Beltline     2   \n",
       "4  24 Hemlock Crescent SW #2308  649000  CA  AB T3C 2Z1  Spruce Cliff     2   \n",
       "\n",
       "   Bath  Sq.Ft                        Website  \n",
       "0   3.5   1813        Century 21 Bravo Realty  \n",
       "1   2.0   1029  Century 21 Bamber Realty Ltd.  \n",
       "2   2.5   2545                     Exp Realty  \n",
       "3   2.0    898    RE/MAX Realty Professionals  \n",
       "4   2.0   1482                        Charles  "
      ]
     },
     "execution_count": 3,
     "metadata": {},
     "output_type": "execute_result"
    }
   ],
   "source": [
    "# Import the dataset\n",
    "original_df = pd.read_csv(\"Homes for Sale and Real Estate.csv\")\n",
    "original_df.head()"
   ]
  },
  {
   "cell_type": "code",
   "execution_count": 4,
   "id": "71416f7e-9af7-4456-b0ed-48961f0285ff",
   "metadata": {},
   "outputs": [
    {
     "data": {
      "text/html": [
       "<div>\n",
       "<style scoped>\n",
       "    .dataframe tbody tr th:only-of-type {\n",
       "        vertical-align: middle;\n",
       "    }\n",
       "\n",
       "    .dataframe tbody tr th {\n",
       "        vertical-align: top;\n",
       "    }\n",
       "\n",
       "    .dataframe thead th {\n",
       "        text-align: right;\n",
       "    }\n",
       "</style>\n",
       "<table border=\"1\" class=\"dataframe\">\n",
       "  <thead>\n",
       "    <tr style=\"text-align: right;\">\n",
       "      <th></th>\n",
       "      <th>Price</th>\n",
       "      <th>Beds</th>\n",
       "      <th>Bath</th>\n",
       "      <th>Sq.Ft</th>\n",
       "    </tr>\n",
       "  </thead>\n",
       "  <tbody>\n",
       "    <tr>\n",
       "      <th>count</th>\n",
       "      <td>3.360000e+03</td>\n",
       "      <td>3360.000000</td>\n",
       "      <td>3360.000000</td>\n",
       "      <td>3360.000000</td>\n",
       "    </tr>\n",
       "    <tr>\n",
       "      <th>mean</th>\n",
       "      <td>7.500648e+05</td>\n",
       "      <td>3.125000</td>\n",
       "      <td>2.479167</td>\n",
       "      <td>1558.815179</td>\n",
       "    </tr>\n",
       "    <tr>\n",
       "      <th>std</th>\n",
       "      <td>6.447619e+05</td>\n",
       "      <td>1.349087</td>\n",
       "      <td>1.023546</td>\n",
       "      <td>1056.424307</td>\n",
       "    </tr>\n",
       "    <tr>\n",
       "      <th>min</th>\n",
       "      <td>1.419000e+05</td>\n",
       "      <td>1.000000</td>\n",
       "      <td>1.000000</td>\n",
       "      <td>307.000000</td>\n",
       "    </tr>\n",
       "    <tr>\n",
       "      <th>25%</th>\n",
       "      <td>3.990000e+05</td>\n",
       "      <td>2.000000</td>\n",
       "      <td>2.000000</td>\n",
       "      <td>933.000000</td>\n",
       "    </tr>\n",
       "    <tr>\n",
       "      <th>50%</th>\n",
       "      <td>6.199000e+05</td>\n",
       "      <td>3.000000</td>\n",
       "      <td>2.500000</td>\n",
       "      <td>1352.000000</td>\n",
       "    </tr>\n",
       "    <tr>\n",
       "      <th>75%</th>\n",
       "      <td>8.499220e+05</td>\n",
       "      <td>4.000000</td>\n",
       "      <td>3.500000</td>\n",
       "      <td>2023.250000</td>\n",
       "    </tr>\n",
       "    <tr>\n",
       "      <th>max</th>\n",
       "      <td>1.000000e+07</td>\n",
       "      <td>10.000000</td>\n",
       "      <td>8.000000</td>\n",
       "      <td>39654.000000</td>\n",
       "    </tr>\n",
       "  </tbody>\n",
       "</table>\n",
       "</div>"
      ],
      "text/plain": [
       "              Price         Beds         Bath         Sq.Ft\n",
       "count  3.360000e+03  3360.000000  3360.000000   3360.000000\n",
       "mean   7.500648e+05     3.125000     2.479167   1558.815179\n",
       "std    6.447619e+05     1.349087     1.023546   1056.424307\n",
       "min    1.419000e+05     1.000000     1.000000    307.000000\n",
       "25%    3.990000e+05     2.000000     2.000000    933.000000\n",
       "50%    6.199000e+05     3.000000     2.500000   1352.000000\n",
       "75%    8.499220e+05     4.000000     3.500000   2023.250000\n",
       "max    1.000000e+07    10.000000     8.000000  39654.000000"
      ]
     },
     "execution_count": 4,
     "metadata": {},
     "output_type": "execute_result"
    }
   ],
   "source": [
    "original_df.describe()"
   ]
  },
  {
   "cell_type": "code",
   "execution_count": 5,
   "id": "50a10a54-cf2a-4ef1-b5eb-07c4794d8465",
   "metadata": {},
   "outputs": [],
   "source": [
    "# Drop unused data\n",
    "df = original_df.drop(['Address', 'Description', 'Website'], axis = 'columns')"
   ]
  },
  {
   "cell_type": "code",
   "execution_count": 6,
   "id": "e68a4f11-f82f-4273-9a8f-3d71206ed343",
   "metadata": {},
   "outputs": [
    {
     "data": {
      "text/plain": [
       "(3360, 5)"
      ]
     },
     "execution_count": 6,
     "metadata": {},
     "output_type": "execute_result"
    }
   ],
   "source": [
    "# Inspect the dataset size\n",
    "df.shape \n",
    "# The dataset has 3360 rows and 5 columns"
   ]
  },
  {
   "cell_type": "code",
   "execution_count": 7,
   "id": "a454ec9d-9409-412b-a40a-8c5a0aad6d74",
   "metadata": {},
   "outputs": [],
   "source": [
    "# Check for null data. Drop null data\n",
    "df.isnull().sum()\n",
    "df = df.dropna()"
   ]
  },
  {
   "cell_type": "code",
   "execution_count": 8,
   "id": "7f7bbd3c-d98e-4bb1-8cb3-76e00cbac411",
   "metadata": {},
   "outputs": [
    {
     "data": {
      "text/plain": [
       "(3344, 5)"
      ]
     },
     "execution_count": 8,
     "metadata": {},
     "output_type": "execute_result"
    }
   ],
   "source": [
    "df.shape"
   ]
  },
  {
   "cell_type": "code",
   "execution_count": 9,
   "id": "be6474ca-51b9-443f-b7fa-2bcc70001543",
   "metadata": {},
   "outputs": [
    {
     "data": {
      "text/plain": [
       "Place\n",
       "Beltline                     155\n",
       "Saddle Ridge                  72\n",
       "Legacy                        60\n",
       "Mahogany                      56\n",
       "Cranston                      54\n",
       "                            ... \n",
       "Fresco Gardens - Taradale      1\n",
       "Riverside Gate                 1\n",
       "Georgian Village               1\n",
       "Rideau Park                    1\n",
       "Zen In Aspen                   1\n",
       "Name: Place, Length: 308, dtype: int64"
      ]
     },
     "execution_count": 9,
     "metadata": {},
     "output_type": "execute_result"
    }
   ],
   "source": [
    "# Group data by place\n",
    "location_pts = df.groupby('Place')['Place'].agg('count').sort_values(ascending = False)\n",
    "location_pts\n",
    "# There are 308 unique towns"
   ]
  },
  {
   "cell_type": "code",
   "execution_count": 10,
   "id": "57e5c6ab-6692-4065-bb31-fe369367eff3",
   "metadata": {},
   "outputs": [
    {
     "data": {
      "text/plain": [
       "260"
      ]
     },
     "execution_count": 10,
     "metadata": {},
     "output_type": "execute_result"
    }
   ],
   "source": [
    "# Number of location with less than 20 datapoints\n",
    "len(location_pts[location_pts <= 20])"
   ]
  },
  {
   "cell_type": "code",
   "execution_count": 11,
   "id": "6ecdffd2-ea9b-407e-9bb5-d2367154f5a1",
   "metadata": {},
   "outputs": [
    {
     "data": {
      "text/plain": [
       "Beds\n",
       "1     363\n",
       "2     852\n",
       "3     814\n",
       "4     838\n",
       "5     331\n",
       "6     113\n",
       "7      24\n",
       "8       8\n",
       "10      1\n",
       "Name: Beds, dtype: int64"
      ]
     },
     "execution_count": 11,
     "metadata": {},
     "output_type": "execute_result"
    }
   ],
   "source": [
    "# Group data by number of beds in the house\n",
    "df.groupby('Beds')['Beds'].agg('count')\n",
    "# The dataset has the house number range from 1 to 10. Houses with 2 beds have the most count, then come to 4-bed and 3-bed. Houses with 10-bed has the least count (1)"
   ]
  },
  {
   "cell_type": "code",
   "execution_count": 12,
   "id": "c53d48a8-db08-4710-9fec-6d4b8d0286fe",
   "metadata": {},
   "outputs": [
    {
     "data": {
      "text/plain": [
       "count    3344.000000\n",
       "mean        3.120813\n",
       "std         1.347180\n",
       "min         1.000000\n",
       "25%         2.000000\n",
       "50%         3.000000\n",
       "75%         4.000000\n",
       "max        10.000000\n",
       "Name: Beds, dtype: float64"
      ]
     },
     "execution_count": 12,
     "metadata": {},
     "output_type": "execute_result"
    }
   ],
   "source": [
    "df['Beds'].describe()"
   ]
  },
  {
   "cell_type": "code",
   "execution_count": 13,
   "id": "ae5ac2a2-a72f-42b0-ac50-a102477a23ba",
   "metadata": {},
   "outputs": [
    {
     "data": {
      "text/plain": [
       "<Axes: xlabel='Beds', ylabel='count'>"
      ]
     },
     "execution_count": 13,
     "metadata": {},
     "output_type": "execute_result"
    },
    {
     "data": {
      "image/png": "[encoded data removed]",
      "text/plain": [
       "<Figure size 2000x1000 with 1 Axes>"
      ]
     },
     "metadata": {},
     "output_type": "display_data"
    }
   ],
   "source": [
    "# Plot the dataset aggregated by number of beds\n",
    "sns.countplot(x = df['Beds'])"
   ]
  },
  {
   "cell_type": "code",
   "execution_count": 14,
   "id": "4efea984-6727-4bae-8292-8102d93a70ae",
   "metadata": {},
   "outputs": [
    {
     "name": "stdout",
     "output_type": "stream",
     "text": [
      "Outliers:          Price                 Place  Beds  Bath  Sq.Ft\n",
      "405   1290000        West Hillhurst     8   4.0   2505\n",
      "718   1200000  Bridgeland/Riverside     8   4.0   1988\n",
      "1830   880000               Bowness    10   4.0   2054\n",
      "2162   949800       Mayland Heights     8   4.0   2201\n",
      "2230   934999          Saddle Ridge     8   6.0   2737\n",
      "2646   998690         Highland Park     8   4.0   1645\n",
      "2683  3700000       Springbank Hill     8   7.5   8179\n",
      "3000  1265000          Saddle Ridge     8   6.0   3264\n",
      "3194  1799000          Capitol Hill     8   8.0   2962\n"
     ]
    }
   ],
   "source": [
    "# Detect outlier in the dataset\n",
    "# Calculate z-score\n",
    "z = np.abs(stats.zscore(df['Beds']))\n",
    "\n",
    "# Print out outliers\n",
    "print(\"Outliers: \", df[z > 3])\n",
    "\n",
    "# The outliers are the houses with 8 and 10 beds"
   ]
  },
  {
   "cell_type": "code",
   "execution_count": 15,
   "id": "a2af4e38-7f22-4b09-a4a4-c34564ecb684",
   "metadata": {},
   "outputs": [
    {
     "data": {
      "text/plain": [
       "(3335, 5)"
      ]
     },
     "execution_count": 15,
     "metadata": {},
     "output_type": "execute_result"
    }
   ],
   "source": [
    "# Delete the outlier rows for bedroom number\n",
    "outliers = df[(df['Beds'] == 8) | (df['Beds'] == 10)].index\n",
    "df.drop(outliers, inplace = True)\n",
    "df.shape"
   ]
  },
  {
   "cell_type": "code",
   "execution_count": 16,
   "id": "fa9423f0-2dfc-4b97-8b43-be941e466a9d",
   "metadata": {},
   "outputs": [
    {
     "data": {
      "text/html": [
       "<div>\n",
       "<style scoped>\n",
       "    .dataframe tbody tr th:only-of-type {\n",
       "        vertical-align: middle;\n",
       "    }\n",
       "\n",
       "    .dataframe tbody tr th {\n",
       "        vertical-align: top;\n",
       "    }\n",
       "\n",
       "    .dataframe thead th {\n",
       "        text-align: right;\n",
       "    }\n",
       "</style>\n",
       "<table border=\"1\" class=\"dataframe\">\n",
       "  <thead>\n",
       "    <tr style=\"text-align: right;\">\n",
       "      <th></th>\n",
       "      <th>Price</th>\n",
       "      <th>Beds</th>\n",
       "      <th>Bath</th>\n",
       "      <th>Sq.Ft</th>\n",
       "    </tr>\n",
       "  </thead>\n",
       "  <tbody>\n",
       "    <tr>\n",
       "      <th>count</th>\n",
       "      <td>3.335000e+03</td>\n",
       "      <td>3335.000000</td>\n",
       "      <td>3335.000000</td>\n",
       "      <td>3335.000000</td>\n",
       "    </tr>\n",
       "    <tr>\n",
       "      <th>mean</th>\n",
       "      <td>7.443918e+05</td>\n",
       "      <td>3.107046</td>\n",
       "      <td>2.468966</td>\n",
       "      <td>1550.620090</td>\n",
       "    </tr>\n",
       "    <tr>\n",
       "      <th>std</th>\n",
       "      <td>6.300092e+05</td>\n",
       "      <td>1.322228</td>\n",
       "      <td>1.010820</td>\n",
       "      <td>1043.514583</td>\n",
       "    </tr>\n",
       "    <tr>\n",
       "      <th>min</th>\n",
       "      <td>1.419000e+05</td>\n",
       "      <td>1.000000</td>\n",
       "      <td>1.000000</td>\n",
       "      <td>307.000000</td>\n",
       "    </tr>\n",
       "    <tr>\n",
       "      <th>25%</th>\n",
       "      <td>3.965000e+05</td>\n",
       "      <td>2.000000</td>\n",
       "      <td>2.000000</td>\n",
       "      <td>930.000000</td>\n",
       "    </tr>\n",
       "    <tr>\n",
       "      <th>50%</th>\n",
       "      <td>6.180000e+05</td>\n",
       "      <td>3.000000</td>\n",
       "      <td>2.500000</td>\n",
       "      <td>1347.000000</td>\n",
       "    </tr>\n",
       "    <tr>\n",
       "      <th>75%</th>\n",
       "      <td>8.499000e+05</td>\n",
       "      <td>4.000000</td>\n",
       "      <td>3.500000</td>\n",
       "      <td>2013.500000</td>\n",
       "    </tr>\n",
       "    <tr>\n",
       "      <th>max</th>\n",
       "      <td>1.000000e+07</td>\n",
       "      <td>7.000000</td>\n",
       "      <td>7.500000</td>\n",
       "      <td>39654.000000</td>\n",
       "    </tr>\n",
       "  </tbody>\n",
       "</table>\n",
       "</div>"
      ],
      "text/plain": [
       "              Price         Beds         Bath         Sq.Ft\n",
       "count  3.335000e+03  3335.000000  3335.000000   3335.000000\n",
       "mean   7.443918e+05     3.107046     2.468966   1550.620090\n",
       "std    6.300092e+05     1.322228     1.010820   1043.514583\n",
       "min    1.419000e+05     1.000000     1.000000    307.000000\n",
       "25%    3.965000e+05     2.000000     2.000000    930.000000\n",
       "50%    6.180000e+05     3.000000     2.500000   1347.000000\n",
       "75%    8.499000e+05     4.000000     3.500000   2013.500000\n",
       "max    1.000000e+07     7.000000     7.500000  39654.000000"
      ]
     },
     "execution_count": 16,
     "metadata": {},
     "output_type": "execute_result"
    }
   ],
   "source": [
    "# Overview of statistical description of the data\n",
    "df.describe()"
   ]
  },
  {
   "cell_type": "code",
   "execution_count": 17,
   "id": "f62e8cde-b0e0-425a-b298-c5cd8874de2e",
   "metadata": {},
   "outputs": [
    {
     "data": {
      "text/html": [
       "<div>\n",
       "<style scoped>\n",
       "    .dataframe tbody tr th:only-of-type {\n",
       "        vertical-align: middle;\n",
       "    }\n",
       "\n",
       "    .dataframe tbody tr th {\n",
       "        vertical-align: top;\n",
       "    }\n",
       "\n",
       "    .dataframe thead th {\n",
       "        text-align: right;\n",
       "    }\n",
       "</style>\n",
       "<table border=\"1\" class=\"dataframe\">\n",
       "  <thead>\n",
       "    <tr style=\"text-align: right;\">\n",
       "      <th></th>\n",
       "      <th>Price</th>\n",
       "      <th>Place</th>\n",
       "      <th>Beds</th>\n",
       "      <th>Bath</th>\n",
       "      <th>Sq.Ft</th>\n",
       "      <th>price_per_sqft</th>\n",
       "    </tr>\n",
       "  </thead>\n",
       "  <tbody>\n",
       "    <tr>\n",
       "      <th>0</th>\n",
       "      <td>979999</td>\n",
       "      <td>Glenbrook</td>\n",
       "      <td>4</td>\n",
       "      <td>3.5</td>\n",
       "      <td>1813</td>\n",
       "      <td>540.539989</td>\n",
       "    </tr>\n",
       "    <tr>\n",
       "      <th>1</th>\n",
       "      <td>439900</td>\n",
       "      <td>Mahogany</td>\n",
       "      <td>2</td>\n",
       "      <td>2.0</td>\n",
       "      <td>1029</td>\n",
       "      <td>427.502430</td>\n",
       "    </tr>\n",
       "    <tr>\n",
       "      <th>2</th>\n",
       "      <td>950000</td>\n",
       "      <td>Auburn Bay</td>\n",
       "      <td>4</td>\n",
       "      <td>2.5</td>\n",
       "      <td>2545</td>\n",
       "      <td>373.280943</td>\n",
       "    </tr>\n",
       "    <tr>\n",
       "      <th>3</th>\n",
       "      <td>280000</td>\n",
       "      <td>Beltline</td>\n",
       "      <td>2</td>\n",
       "      <td>2.0</td>\n",
       "      <td>898</td>\n",
       "      <td>311.804009</td>\n",
       "    </tr>\n",
       "    <tr>\n",
       "      <th>4</th>\n",
       "      <td>649000</td>\n",
       "      <td>Spruce Cliff</td>\n",
       "      <td>2</td>\n",
       "      <td>2.0</td>\n",
       "      <td>1482</td>\n",
       "      <td>437.921727</td>\n",
       "    </tr>\n",
       "  </tbody>\n",
       "</table>\n",
       "</div>"
      ],
      "text/plain": [
       "    Price         Place  Beds  Bath  Sq.Ft  price_per_sqft\n",
       "0  979999     Glenbrook     4   3.5   1813      540.539989\n",
       "1  439900      Mahogany     2   2.0   1029      427.502430\n",
       "2  950000    Auburn Bay     4   2.5   2545      373.280943\n",
       "3  280000      Beltline     2   2.0    898      311.804009\n",
       "4  649000  Spruce Cliff     2   2.0   1482      437.921727"
      ]
     },
     "execution_count": 17,
     "metadata": {},
     "output_type": "execute_result"
    }
   ],
   "source": [
    "# Calculate price per sq.ft \n",
    "df['price_per_sqft'] = df['Price'] / df['Sq.Ft']\n",
    "df.head()"
   ]
  },
  {
   "cell_type": "code",
   "execution_count": 18,
   "id": "587a9960-6edc-4157-89f0-0f255a3d1238",
   "metadata": {},
   "outputs": [
    {
     "data": {
      "image/png": "[encoded data removed]",
      "text/plain": [
       "<Figure size 2000x1000 with 1 Axes>"
      ]
     },
     "metadata": {},
     "output_type": "display_data"
    }
   ],
   "source": [
    "# Create a scatterplot for price_per_sqft vs. beds\n",
    "x = df['Beds']\n",
    "y = df['price_per_sqft']\n",
    "\n",
    "plt.scatter(x, y)\n",
    "plt.show()"
   ]
  },
  {
   "cell_type": "code",
   "execution_count": 19,
   "id": "67a1e2ee-c93f-449c-be93-675e6dbc6579",
   "metadata": {},
   "outputs": [
    {
     "data": {
      "text/plain": [
       "3254    5485.232068\n",
       "2799    2120.890774\n",
       "770     1623.364908\n",
       "3348    1553.829079\n",
       "3149    1390.268123\n",
       "           ...     \n",
       "2781     233.064516\n",
       "3232     224.299065\n",
       "1990     206.188341\n",
       "45       200.702811\n",
       "2326     198.218263\n",
       "Name: price_per_sqft, Length: 814, dtype: float64"
      ]
     },
     "execution_count": 19,
     "metadata": {},
     "output_type": "execute_result"
    }
   ],
   "source": [
    "# Inspect for the max value of bed = 3\n",
    "df_bed3 = df[df['Beds'] == 3]\n",
    "max_df_bed3 = df_bed3['price_per_sqft'].sort_values(ascending = False)\n",
    "max_df_bed3"
   ]
  },
  {
   "cell_type": "code",
   "execution_count": 20,
   "id": "0012a769-faa6-4ebb-a755-01d71d1678a3",
   "metadata": {},
   "outputs": [
    {
     "data": {
      "text/plain": [
       "(3335, 6)"
      ]
     },
     "execution_count": 20,
     "metadata": {},
     "output_type": "execute_result"
    }
   ],
   "source": [
    "# Delete the outlier\n",
    "bed3_outlier = df[(df['price_per_sqft'] == 5485.232068) & (df['Beds'] == 3)].index\n",
    "df.drop(bed3_outlier, inplace = True)\n",
    "df.shape"
   ]
  },
  {
   "cell_type": "code",
   "execution_count": 21,
   "id": "a64fc044-a6b5-4895-a18a-b03a0c9deebf",
   "metadata": {},
   "outputs": [
    {
     "data": {
      "text/html": [
       "<div>\n",
       "<style scoped>\n",
       "    .dataframe tbody tr th:only-of-type {\n",
       "        vertical-align: middle;\n",
       "    }\n",
       "\n",
       "    .dataframe tbody tr th {\n",
       "        vertical-align: top;\n",
       "    }\n",
       "\n",
       "    .dataframe thead th {\n",
       "        text-align: right;\n",
       "    }\n",
       "</style>\n",
       "<table border=\"1\" class=\"dataframe\">\n",
       "  <thead>\n",
       "    <tr style=\"text-align: right;\">\n",
       "      <th></th>\n",
       "      <th>Price</th>\n",
       "      <th>Beds</th>\n",
       "      <th>Bath</th>\n",
       "      <th>Sq.Ft</th>\n",
       "      <th>price_per_sqft</th>\n",
       "    </tr>\n",
       "  </thead>\n",
       "  <tbody>\n",
       "    <tr>\n",
       "      <th>0</th>\n",
       "      <td>979999</td>\n",
       "      <td>4</td>\n",
       "      <td>3.5</td>\n",
       "      <td>1813</td>\n",
       "      <td>540.539989</td>\n",
       "    </tr>\n",
       "    <tr>\n",
       "      <th>1</th>\n",
       "      <td>439900</td>\n",
       "      <td>2</td>\n",
       "      <td>2.0</td>\n",
       "      <td>1029</td>\n",
       "      <td>427.502430</td>\n",
       "    </tr>\n",
       "    <tr>\n",
       "      <th>2</th>\n",
       "      <td>950000</td>\n",
       "      <td>4</td>\n",
       "      <td>2.5</td>\n",
       "      <td>2545</td>\n",
       "      <td>373.280943</td>\n",
       "    </tr>\n",
       "    <tr>\n",
       "      <th>3</th>\n",
       "      <td>280000</td>\n",
       "      <td>2</td>\n",
       "      <td>2.0</td>\n",
       "      <td>898</td>\n",
       "      <td>311.804009</td>\n",
       "    </tr>\n",
       "    <tr>\n",
       "      <th>4</th>\n",
       "      <td>649000</td>\n",
       "      <td>2</td>\n",
       "      <td>2.0</td>\n",
       "      <td>1482</td>\n",
       "      <td>437.921727</td>\n",
       "    </tr>\n",
       "    <tr>\n",
       "      <th>...</th>\n",
       "      <td>...</td>\n",
       "      <td>...</td>\n",
       "      <td>...</td>\n",
       "      <td>...</td>\n",
       "      <td>...</td>\n",
       "    </tr>\n",
       "    <tr>\n",
       "      <th>3354</th>\n",
       "      <td>429900</td>\n",
       "      <td>3</td>\n",
       "      <td>2.0</td>\n",
       "      <td>1275</td>\n",
       "      <td>337.176471</td>\n",
       "    </tr>\n",
       "    <tr>\n",
       "      <th>3355</th>\n",
       "      <td>799000</td>\n",
       "      <td>3</td>\n",
       "      <td>2.0</td>\n",
       "      <td>869</td>\n",
       "      <td>919.447641</td>\n",
       "    </tr>\n",
       "    <tr>\n",
       "      <th>3357</th>\n",
       "      <td>595000</td>\n",
       "      <td>3</td>\n",
       "      <td>2.5</td>\n",
       "      <td>1733</td>\n",
       "      <td>343.335257</td>\n",
       "    </tr>\n",
       "    <tr>\n",
       "      <th>3358</th>\n",
       "      <td>7988000</td>\n",
       "      <td>2</td>\n",
       "      <td>2.5</td>\n",
       "      <td>3544</td>\n",
       "      <td>2253.950339</td>\n",
       "    </tr>\n",
       "    <tr>\n",
       "      <th>3359</th>\n",
       "      <td>795000</td>\n",
       "      <td>6</td>\n",
       "      <td>2.0</td>\n",
       "      <td>983</td>\n",
       "      <td>808.748728</td>\n",
       "    </tr>\n",
       "  </tbody>\n",
       "</table>\n",
       "<p>3335 rows × 5 columns</p>\n",
       "</div>"
      ],
      "text/plain": [
       "        Price  Beds  Bath  Sq.Ft  price_per_sqft\n",
       "0      979999     4   3.5   1813      540.539989\n",
       "1      439900     2   2.0   1029      427.502430\n",
       "2      950000     4   2.5   2545      373.280943\n",
       "3      280000     2   2.0    898      311.804009\n",
       "4      649000     2   2.0   1482      437.921727\n",
       "...       ...   ...   ...    ...             ...\n",
       "3354   429900     3   2.0   1275      337.176471\n",
       "3355   799000     3   2.0    869      919.447641\n",
       "3357   595000     3   2.5   1733      343.335257\n",
       "3358  7988000     2   2.5   3544     2253.950339\n",
       "3359   795000     6   2.0    983      808.748728\n",
       "\n",
       "[3335 rows x 5 columns]"
      ]
     },
     "execution_count": 21,
     "metadata": {},
     "output_type": "execute_result"
    }
   ],
   "source": [
    "# Numerize the place in the dataset using dummies\n",
    "dummies = pd.get_dummies(df.Place)\n",
    "dummies.head()\n",
    "\n",
    "# Concat dummies to the main dataset\n",
    "# df = pd.concat([df, dummies], axis = 'columns')\n",
    "df = df.drop('Place', axis = 'columns')\n",
    "df"
   ]
  },
  {
   "cell_type": "code",
   "execution_count": 22,
   "id": "7acfc3c8-7fbd-4392-b23a-412e4b590290",
   "metadata": {},
   "outputs": [
    {
     "data": {
      "text/html": [
       "<div>\n",
       "<style scoped>\n",
       "    .dataframe tbody tr th:only-of-type {\n",
       "        vertical-align: middle;\n",
       "    }\n",
       "\n",
       "    .dataframe tbody tr th {\n",
       "        vertical-align: top;\n",
       "    }\n",
       "\n",
       "    .dataframe thead th {\n",
       "        text-align: right;\n",
       "    }\n",
       "</style>\n",
       "<table border=\"1\" class=\"dataframe\">\n",
       "  <thead>\n",
       "    <tr style=\"text-align: right;\">\n",
       "      <th></th>\n",
       "      <th>Beds</th>\n",
       "      <th>Bath</th>\n",
       "      <th>Sq.Ft</th>\n",
       "      <th>price_per_sqft</th>\n",
       "    </tr>\n",
       "  </thead>\n",
       "  <tbody>\n",
       "    <tr>\n",
       "      <th>0</th>\n",
       "      <td>4</td>\n",
       "      <td>3.5</td>\n",
       "      <td>1813</td>\n",
       "      <td>540.539989</td>\n",
       "    </tr>\n",
       "    <tr>\n",
       "      <th>1</th>\n",
       "      <td>2</td>\n",
       "      <td>2.0</td>\n",
       "      <td>1029</td>\n",
       "      <td>427.502430</td>\n",
       "    </tr>\n",
       "    <tr>\n",
       "      <th>2</th>\n",
       "      <td>4</td>\n",
       "      <td>2.5</td>\n",
       "      <td>2545</td>\n",
       "      <td>373.280943</td>\n",
       "    </tr>\n",
       "    <tr>\n",
       "      <th>3</th>\n",
       "      <td>2</td>\n",
       "      <td>2.0</td>\n",
       "      <td>898</td>\n",
       "      <td>311.804009</td>\n",
       "    </tr>\n",
       "    <tr>\n",
       "      <th>4</th>\n",
       "      <td>2</td>\n",
       "      <td>2.0</td>\n",
       "      <td>1482</td>\n",
       "      <td>437.921727</td>\n",
       "    </tr>\n",
       "  </tbody>\n",
       "</table>\n",
       "</div>"
      ],
      "text/plain": [
       "   Beds  Bath  Sq.Ft  price_per_sqft\n",
       "0     4   3.5   1813      540.539989\n",
       "1     2   2.0   1029      427.502430\n",
       "2     4   2.5   2545      373.280943\n",
       "3     2   2.0    898      311.804009\n",
       "4     2   2.0   1482      437.921727"
      ]
     },
     "execution_count": 22,
     "metadata": {},
     "output_type": "execute_result"
    }
   ],
   "source": [
    "# Build the model\n",
    "X = df.drop('Price', axis = 'columns')\n",
    "X.head()"
   ]
  },
  {
   "cell_type": "code",
   "execution_count": 23,
   "id": "e3dcaa3f-1a6b-4aa9-a333-c3d23e0b1395",
   "metadata": {},
   "outputs": [
    {
     "data": {
      "text/plain": [
       "0    979999\n",
       "1    439900\n",
       "2    950000\n",
       "3    280000\n",
       "4    649000\n",
       "Name: Price, dtype: int64"
      ]
     },
     "execution_count": 23,
     "metadata": {},
     "output_type": "execute_result"
    }
   ],
   "source": [
    "y = df.Price\n",
    "y.head()"
   ]
  },
  {
   "cell_type": "code",
   "execution_count": 24,
   "id": "30c947cc-ff0d-4fab-bd22-2fd5d826a43e",
   "metadata": {},
   "outputs": [
    {
     "data": {
      "text/plain": [
       "0.6674481400251879"
      ]
     },
     "execution_count": 24,
     "metadata": {},
     "output_type": "execute_result"
    }
   ],
   "source": [
    "# Split the dataset\n",
    "X_train, X_test, y_train, y_test = train_test_split(X, y, test_size = 0.2, random_state = 10)\n",
    "model_clf = LinearRegression()\n",
    "model_clf.fit(X_train, y_train)\n",
    "model_clf.score(X_test, y_test)"
   ]
  },
  {
   "cell_type": "code",
   "execution_count": 25,
   "id": "69afcb0a-cf5e-4ebc-a081-9073f9b13899",
   "metadata": {},
   "outputs": [
    {
     "data": {
      "text/plain": [
       "array([0.79021826, 0.71200041, 0.77487895, 0.79548422, 0.8078952 ])"
      ]
     },
     "execution_count": 25,
     "metadata": {},
     "output_type": "execute_result"
    }
   ],
   "source": [
    "# Shuffle Split for Cross Validation --> equal distribution for the data sample\n",
    "cv = ShuffleSplit(n_splits = 5, test_size = 0.2, random_state = 12)\n",
    "cross_val_score(LinearRegression(), X, y, cv = cv)"
   ]
  },
  {
   "cell_type": "code",
   "execution_count": 54,
   "id": "48dd8460-6d56-4677-b901-6a0ec422b4c6",
   "metadata": {},
   "outputs": [],
   "source": [
    "# Do GridSearch to look for best estimators, among linear-regresion, lasso, and decision-tree\n",
    "def find_best_estimators(X, y):\n",
    "    algos = {\n",
    "        'linear_regression': {\n",
    "            'model': LinearRegression(),\n",
    "            'params':{\n",
    "                'copy_X' : [True, False],\n",
    "                'fit_intercept' : [True, False],\n",
    "                'n_jobs' : [1,2,3],\n",
    "                'positive' : [True, False]\n",
    "            }\n",
    "        }, \n",
    "        'lasso': {\n",
    "            'model': Lasso(), \n",
    "            'params': {\n",
    "                'alpha': [1, 2], \n",
    "                'selection': ['random', 'cyclic']\n",
    "            }\n",
    "        }, \n",
    "        'decision_tree': {\n",
    "            'model': DecisionTreeRegressor(), \n",
    "            'params': {\n",
    "                'criterion': ['mse', 'friedman_mse'], \n",
    "                'splitter': ['best', 'random']\n",
    "            }\n",
    "        }\n",
    "    }\n",
    "    scores = []\n",
    "    cv = ShuffleSplit(n_splits = 5, test_size = 0.2, random_state = 0)\n",
    "    for algo_name, config in algos.items():\n",
    "        gs = GridSearchCV(config['model'], config['params'], cv=cv, return_train_score = False)\n",
    "        gs.fit(X, y)\n",
    "        scores.append({\n",
    "            'model': algo_name, \n",
    "            'best_score': gs.best_score_, \n",
    "            'best_params': gs.best_params_\n",
    "        })\n",
    "\n",
    "    return pd.DataFrame(scores, columns = ['model', 'best_score', 'best_params'])"
   ]
  },
  {
   "cell_type": "code",
   "execution_count": 55,
   "id": "3a4dfc85-35c5-4c52-8bbb-df2002959854",
   "metadata": {},
   "outputs": [
    {
     "name": "stderr",
     "output_type": "stream",
     "text": [
      "C:\\Users\\kelly\\.pyenv\\pyenv-win\\versions\\3.11.0b4\\Lib\\site-packages\\sklearn\\model_selection\\_validation.py:540: FitFailedWarning: \n",
      "10 fits failed out of a total of 20.\n",
      "The score on these train-test partitions for these parameters will be set to nan.\n",
      "If these failures are not expected, you can try to debug them by setting error_score='raise'.\n",
      "\n",
      "Below are more details about the failures:\n",
      "--------------------------------------------------------------------------------\n",
      "10 fits failed with the following error:\n",
      "Traceback (most recent call last):\n",
      "  File \"C:\\Users\\kelly\\.pyenv\\pyenv-win\\versions\\3.11.0b4\\Lib\\site-packages\\sklearn\\model_selection\\_validation.py\", line 888, in _fit_and_score\n",
      "    estimator.fit(X_train, y_train, **fit_params)\n",
      "  File \"C:\\Users\\kelly\\.pyenv\\pyenv-win\\versions\\3.11.0b4\\Lib\\site-packages\\sklearn\\base.py\", line 1466, in wrapper\n",
      "    estimator._validate_params()\n",
      "  File \"C:\\Users\\kelly\\.pyenv\\pyenv-win\\versions\\3.11.0b4\\Lib\\site-packages\\sklearn\\base.py\", line 666, in _validate_params\n",
      "    validate_parameter_constraints(\n",
      "  File \"C:\\Users\\kelly\\.pyenv\\pyenv-win\\versions\\3.11.0b4\\Lib\\site-packages\\sklearn\\utils\\_param_validation.py\", line 95, in validate_parameter_constraints\n",
      "    raise InvalidParameterError(\n",
      "sklearn.utils._param_validation.InvalidParameterError: The 'criterion' parameter of DecisionTreeRegressor must be a str among {'poisson', 'absolute_error', 'squared_error', 'friedman_mse'}. Got 'mse' instead.\n",
      "\n",
      "  warnings.warn(some_fits_failed_message, FitFailedWarning)\n",
      "C:\\Users\\kelly\\.pyenv\\pyenv-win\\versions\\3.11.0b4\\Lib\\site-packages\\sklearn\\model_selection\\_search.py:1052: UserWarning: One or more of the test scores are non-finite: [       nan        nan 0.87692731 0.83486304]\n",
      "  warnings.warn(\n"
     ]
    },
    {
     "data": {
      "text/html": [
       "<div>\n",
       "<style scoped>\n",
       "    .dataframe tbody tr th:only-of-type {\n",
       "        vertical-align: middle;\n",
       "    }\n",
       "\n",
       "    .dataframe tbody tr th {\n",
       "        vertical-align: top;\n",
       "    }\n",
       "\n",
       "    .dataframe thead th {\n",
       "        text-align: right;\n",
       "    }\n",
       "</style>\n",
       "<table border=\"1\" class=\"dataframe\">\n",
       "  <thead>\n",
       "    <tr style=\"text-align: right;\">\n",
       "      <th></th>\n",
       "      <th>model</th>\n",
       "      <th>best_score</th>\n",
       "      <th>best_params</th>\n",
       "    </tr>\n",
       "  </thead>\n",
       "  <tbody>\n",
       "    <tr>\n",
       "      <th>0</th>\n",
       "      <td>linear_regression</td>\n",
       "      <td>0.338375</td>\n",
       "      <td>{'copy_X': True, 'fit_intercept': False, 'n_jo...</td>\n",
       "    </tr>\n",
       "    <tr>\n",
       "      <th>1</th>\n",
       "      <td>lasso</td>\n",
       "      <td>-0.247244</td>\n",
       "      <td>{'alpha': 2, 'selection': 'cyclic'}</td>\n",
       "    </tr>\n",
       "    <tr>\n",
       "      <th>2</th>\n",
       "      <td>decision_tree</td>\n",
       "      <td>0.876927</td>\n",
       "      <td>{'criterion': 'friedman_mse', 'splitter': 'best'}</td>\n",
       "    </tr>\n",
       "  </tbody>\n",
       "</table>\n",
       "</div>"
      ],
      "text/plain": [
       "               model  best_score  \\\n",
       "0  linear_regression    0.338375   \n",
       "1              lasso   -0.247244   \n",
       "2      decision_tree    0.876927   \n",
       "\n",
       "                                         best_params  \n",
       "0  {'copy_X': True, 'fit_intercept': False, 'n_jo...  \n",
       "1                {'alpha': 2, 'selection': 'cyclic'}  \n",
       "2  {'criterion': 'friedman_mse', 'splitter': 'best'}  "
      ]
     },
     "execution_count": 55,
     "metadata": {},
     "output_type": "execute_result"
    }
   ],
   "source": [
    "# Using the function to find the best estimator\n",
    "find_best_estimators(X, y)"
   ]
  },
  {
   "cell_type": "code",
   "execution_count": 59,
   "id": "90179bee-14c3-4449-b3ac-8510218f64dc",
   "metadata": {},
   "outputs": [
    {
     "data": {
      "text/plain": [
       "0.9126958619801195"
      ]
     },
     "execution_count": 59,
     "metadata": {},
     "output_type": "execute_result"
    }
   ],
   "source": [
    "# Rebuild the model using DecisionTreeRegressor\n",
    "best_model = DecisionTreeRegressor()\n",
    "best_model.fit(X_train, y_train)\n",
    "best_model.score(X_test, y_test)"
   ]
  },
  {
   "cell_type": "code",
   "execution_count": 60,
   "id": "ddd00977-f76f-4ee0-89f3-57956d0f4be7",
   "metadata": {},
   "outputs": [],
   "source": [
    "# Best estimator is the decision tree\n",
    "# Function to apply the model to find the price\n",
    "def predict_price(beds, baths, sqft):\n",
    "    x = np.zeros(len(X.columns))\n",
    "    x[0] = beds\n",
    "    x[1] = baths\n",
    "    x[2] = sqft\n",
    "\n",
    "    return best_model.predict([x])[0]"
   ]
  },
  {
   "cell_type": "code",
   "execution_count": 61,
   "id": "19b884ca-3408-449d-b02c-5033eace5d13",
   "metadata": {},
   "outputs": [
    {
     "name": "stderr",
     "output_type": "stream",
     "text": [
      "C:\\Users\\kelly\\.pyenv\\pyenv-win\\versions\\3.11.0b4\\Lib\\site-packages\\sklearn\\base.py:493: UserWarning: X does not have valid feature names, but DecisionTreeRegressor was fitted with feature names\n",
      "  warnings.warn(\n"
     ]
    },
    {
     "data": {
      "text/plain": [
       "199900.0"
      ]
     },
     "execution_count": 61,
     "metadata": {},
     "output_type": "execute_result"
    }
   ],
   "source": [
    "# Predict housing price\n",
    "predicted_price = predict_price(4, 2, 1000)\n",
    "\n",
    "# Print out the value\n",
    "print('Price prediction for 4 beds, 2 baths, 1000 sqft is $', predicted_price, ' in Canada in 20"
   ]
  },
  {
   "cell_type": "code",
   "execution_count": null,
   "id": "bf414ad6-fafc-4680-ac97-68e19db34ec2",
   "metadata": {},
   "outputs": [],
   "source": []
  }
 ],
 "metadata": {
  "kernelspec": {
   "display_name": "Python 3 (ipykernel)",
   "language": "python",
   "name": "python3"
  },
  "language_info": {
   "codemirror_mode": {
    "name": "ipython",
    "version": 3
   },
   "file_extension": ".py",
   "mimetype": "text/x-python",
   "name": "python",
   "nbconvert_exporter": "python",
   "pygments_lexer": "ipython3",
   "version": "3.11.0b4"
  }
 },
 "nbformat": 4,
 "nbformat_minor": 5
}
